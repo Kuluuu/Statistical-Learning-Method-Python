{
  "nbformat": 4,
  "nbformat_minor": 0,
  "metadata": {
    "colab": {
      "name": "CH02-Perceptron.ipynb",
      "provenance": [],
      "collapsed_sections": [],
      "toc_visible": true
    },
    "kernelspec": {
      "name": "python3",
      "display_name": "Python 3"
    },
    "language_info": {
      "name": "python"
    }
  },
  "cells": [
    {
      "cell_type": "markdown",
      "source": [
        "# 导包"
      ],
      "metadata": {
        "id": "sOuuG5e4eJyt"
      }
    },
    {
      "cell_type": "code",
      "execution_count": 110,
      "metadata": {
        "id": "y3bTbFN_d00c"
      },
      "outputs": [],
      "source": [
        "import numpy as np\n",
        "import matplotlib.pyplot as plt\n",
        "import pandas as pd\n",
        "import scipy.io as sio\n",
        "\n",
        "base = \"/content/drive/MyDrive/Colab Notebooks/Statistical-Learning-Method-Python/CH02-Perceptron\""
      ]
    },
    {
      "cell_type": "markdown",
      "source": [
        "# 导入数据"
      ],
      "metadata": {
        "id": "ERzlty9kfsgS"
      }
    },
    {
      "cell_type": "code",
      "source": [
        "data_path = base + \"/CH02-data.mat\"\n",
        "data = sio.loadmat(data_path)\n",
        "\n",
        "X = data['X']\n",
        "y = data['y'].astype(int)\n",
        "\n",
        "# 将标签转为1和-1\n",
        "for i in range(y.shape[0]):\n",
        "  y[i] = -1 if y[i] == 0 else 1"
      ],
      "metadata": {
        "id": "blGv4mxGfrx9"
      },
      "execution_count": 111,
      "outputs": []
    },
    {
      "cell_type": "markdown",
      "source": [
        "# 数据可视化"
      ],
      "metadata": {
        "id": "Y86G4S6of_IO"
      }
    },
    {
      "cell_type": "code",
      "source": [
        "df = pd.DataFrame({'x1': X[:, 0], 'x2':X[:, 1], 'y':np.ravel(y)})\n",
        "\n",
        "positive = df[df['y'].isin([1])]\n",
        "negative = df[df['y'].isin([-1])]\n",
        "\n",
        "fig, ax = plt.subplots(figsize=(12, 8))\n",
        "ax.scatter(positive['x1'], positive['x2'], color=\"black\", s=75, marker='+', label=\"Positive\")\n",
        "ax.scatter(negative['x1'], negative['x2'], color=\"y\", s=75, marker='o', label=\"Negative\")\n",
        "ax.legend(loc=2)\n",
        "ax.set_xlabel(\"x1\")\n",
        "ax.set_ylabel(\"x2\")\n",
        "plt.show()"
      ],
      "metadata": {
        "colab": {
          "base_uri": "https://localhost:8080/",
          "height": 497
        },
        "id": "G9n6WsMrf-r7",
        "outputId": "e8a9f47d-81a3-4e2e-9667-4a6aae6c655b"
      },
      "execution_count": 112,
      "outputs": [
        {
          "output_type": "display_data",
          "data": {
            "text/plain": [
              "<Figure size 864x576 with 1 Axes>"
            ],
            "image/png": "[encoded data removed]"
          },
          "metadata": {
            "needs_background": "light"
          }
        }
      ]
    },
    {
      "cell_type": "markdown",
      "source": [
        "# 感知机模型\n",
        "$$\n",
        "f(x)=sign(w\\cdot x+b)\n",
        "$$\n",
        "其中：$w\\in \\mathbb{R}^n,b\\in \\mathbb{R}$，\n",
        "$\n",
        "sign(x)=\\left\\{\\begin{matrix}\n",
        "+1,\\ \\ x\\ge 0 \\\\\n",
        "-1,\\ \\ x<0\n",
        "\\end{matrix}\\right.\n",
        "$"
      ],
      "metadata": {
        "id": "dkqaWPWajTSs"
      }
    },
    {
      "cell_type": "code",
      "source": [
        "def sign(x):\n",
        "  return 1 if x >= 0 else -1"
      ],
      "metadata": {
        "id": "I43Zrc0hjTVU"
      },
      "execution_count": 113,
      "outputs": []
    },
    {
      "cell_type": "code",
      "source": [
        "def LinearRegression(x, w, b):\n",
        "  ret = w.T @ x + b\n",
        "  return ret"
      ],
      "metadata": {
        "id": "al8yoQNHo66U"
      },
      "execution_count": 114,
      "outputs": []
    },
    {
      "cell_type": "code",
      "source": [
        "def Hypothesis(x, w, b):\n",
        "  return sign(LinearRegression(x, w, b))"
      ],
      "metadata": {
        "id": "ONGZiuzOpDOG"
      },
      "execution_count": 115,
      "outputs": []
    },
    {
      "cell_type": "markdown",
      "source": [
        "# 感知机学习策略\n"
      ],
      "metadata": {
        "id": "9_xAMZVPkYtf"
      }
    },
    {
      "cell_type": "markdown",
      "source": [
        "## 误分类点到超平面S的总距离\n",
        "$$\n",
        "L(w,b)=-\\sum_{x_i\\in M}y_i(w\\cdot x_i + b)\n",
        "$$\n",
        "其中：M为误分类点的集合，$x_i\\in \\mathcal{X} =\\mathbb{R}^n$，$w\\in \\mathbb{R}^n,b\\in \\mathbb{R}$\n"
      ],
      "metadata": {
        "id": "y1tnN779kcd7"
      }
    },
    {
      "cell_type": "code",
      "source": [
        "def ComputeCost(X, w, b):\n",
        "  cost = 0\n",
        "  for i in range(X.shape[0]):\n",
        "    y_hat = LinearRegression(X[i].reshape(X.shape[1], 1), w, b)\n",
        "    if y[i] * y_hat <= 0:\n",
        "      cost += y[i] * y_hat\n",
        "\n",
        "  return -1 * cost"
      ],
      "metadata": {
        "id": "cBGhak2mkYv5"
      },
      "execution_count": 116,
      "outputs": []
    },
    {
      "cell_type": "code",
      "source": [
        "w = np.ones(2)\n",
        "b = 0\n",
        "ComputeCost(X, w, b)"
      ],
      "metadata": {
        "colab": {
          "base_uri": "https://localhost:8080/"
        },
        "id": "foloRaO_nPXp",
        "outputId": "365a38eb-ba00-4d95-9fa9-198398c06fc4"
      },
      "execution_count": 117,
      "outputs": [
        {
          "output_type": "execute_result",
          "data": {
            "text/plain": [
              "array([134.38635])"
            ]
          },
          "metadata": {},
          "execution_count": 117
        }
      ]
    },
    {
      "cell_type": "markdown",
      "source": [
        "# 感知机学习算法"
      ],
      "metadata": {
        "id": "imnuHJrypS3h"
      }
    },
    {
      "cell_type": "markdown",
      "source": [
        "## 原始形式\n",
        "输入：训练数据集$T=\\{(x_1,y_1),(x_2,y_2),\\dots, (x_N,y_N)\\}$，其中$x_i\\in \\mathcal{X}=\\mathbb{R}^n$，$y_i\\in \\mathcal{Y}=\\{-1,+1\\}$，$i=1,2,\\dots ,N$；学习率$\\eta(0\\le \\eta \\le 1)$\n",
        "\n",
        "输出：w,b；感知机模型$f(x)=sign(w\\cdot x+b)$\n",
        "\n",
        "（1）选择初值$w_0,b_0$\n",
        "\n",
        "（2）在训练集中选取数据$(x_i,y_i)$\n",
        "\n",
        "（3）如果$y_i(w\\cdot x_i+b)\\le0$，\n",
        "$$\n",
        "w\\leftarrow w+\\eta y_ix_i \\\\\n",
        "b\\leftarrow b+\\eta y_i\n",
        "$$\n",
        "\n",
        "（4）转至（2），直至训练集中没有误分类点。\n",
        "\n"
      ],
      "metadata": {
        "id": "mjFQ7zn7pWmP"
      }
    },
    {
      "cell_type": "markdown",
      "source": [
        "### 计算原始形式问题"
      ],
      "metadata": {
        "id": "OLdah8qdVW1e"
      }
    },
    {
      "cell_type": "code",
      "source": [
        "def StochasticGradientDescent(X, LearningRate):\n",
        "  # 初始化参数（1）\n",
        "  w = np.ones(2)\n",
        "  b = 0\n",
        "\n",
        "  while 1:\n",
        "    # 选择误分类点（2）\n",
        "    index = -1\n",
        "    for i in range(X.shape[0]):\n",
        "      y_hat = LinearRegression(X[i].reshape(X.shape[1], 1), w, b)\n",
        "      if y[i] * y_hat <= 0:\n",
        "        index = i\n",
        "    if index == -1: # 没有误分类点（4）\n",
        "      break\n",
        "    # 梯度下降（3）\n",
        "    w = w + LearningRate * y[index] * X[index]\n",
        "    b = b + LearningRate * y[index]\n",
        "\n",
        "  return w, b"
      ],
      "metadata": {
        "id": "UU5s7732pSta"
      },
      "execution_count": 118,
      "outputs": []
    },
    {
      "cell_type": "markdown",
      "source": [
        "### 可视化线性超平面"
      ],
      "metadata": {
        "id": "cTuVm8-sP90C"
      }
    },
    {
      "cell_type": "code",
      "source": [
        "w, b = StochasticGradientDescent(X, LearningRate=1)\n",
        "print(w, b)\n",
        "\n",
        "x1 = X[:, 0]\n",
        "x2 = (w[0] * x1 + b) / (-1 * w[1])\n",
        "\n",
        "fig, ax = plt.subplots(figsize=(12, 8))\n",
        "ax.scatter(positive['x1'], positive['x2'], color=\"black\", s=50, marker='+', label=\"Positive\")\n",
        "ax.scatter(negative['x1'], negative['x2'], color=\"y\", s=50, marker='o', label=\"Negative\")\n",
        "ax.plot(x1, x2, color=\"blue\", label=\"f(x)\")\n",
        "ax.legend(loc=2)\n",
        "ax.set_xlabel(\"x1\")\n",
        "ax.set_ylabel(\"x2\")\n",
        "plt.show()"
      ],
      "metadata": {
        "colab": {
          "base_uri": "https://localhost:8080/",
          "height": 515
        },
        "id": "v2ZfdNY4so6f",
        "outputId": "ccdcf964-ca6d-4cd3-ac48-661fb2c897b8"
      },
      "execution_count": 123,
      "outputs": [
        {
          "output_type": "stream",
          "name": "stdout",
          "text": [
            "[ 8.98983 26.1088 ] [-104]\n"
          ]
        },
        {
          "output_type": "display_data",
          "data": {
            "text/plain": [
              "<Figure size 864x576 with 1 Axes>"
            ],
            "image/png": "[encoded data removed]"
          },
          "metadata": {
            "needs_background": "light"
          }
        }
      ]
    },
    {
      "cell_type": "markdown",
      "source": [
        "## 对偶形式\n",
        "输入：训练数据集$T=\\{(x_1,y_1),(x_2,y_2),\\dots, (x_N,y_N)\\}$，其中$x_i\\in \\mathcal{X}=\\mathbb{R}^n$，$y_i\\in \\mathcal{Y}=\\{-1,+1\\}$，$i=1,2,\\dots ,N$；学习率$\\eta(0\\le \\eta \\le 1)$\n",
        "\n",
        "输出：$\\alpha ,b$；感知机模型$f(x)=sign(\\sum_{j=1}^N\\alpha_jy_jx_j\\cdot x+b)$，其中$\\alpha =(\\alpha_1, \\alpha_2, \\dots, \\alpha_N)^T$，$\\alpha_i=n_i\\eta$，$n_i$是点$(x_i,y_i)$被误分类的次数。\n",
        "\n",
        "（1）$\\alpha \\leftarrow 0,b \\leftarrow 0$\n",
        "\n",
        "（2）在训练集中选取数据$(x_i,y_i)$\n",
        "\n",
        "（3）如果$y_i(\\sum_{j=1}^N\\alpha_jy_jx_j\\cdot x_i+b)\\le0$，\n",
        "$$\n",
        "\\alpha_i\\leftarrow \\alpha_i + \\eta \\\\\n",
        "b\\leftarrow b+\\eta y_i\n",
        "$$\n",
        "\n",
        "（4）转至（2），直至训练集中没有误分类点。\n",
        "\n"
      ],
      "metadata": {
        "id": "3i27Vc0dtsZZ"
      }
    },
    {
      "cell_type": "markdown",
      "source": [
        "### Gram矩阵\n",
        "$$\n",
        "\\mathbb{G}=[x_i\\cdot x_j]_{N\\times N}\n",
        "$$"
      ],
      "metadata": {
        "id": "Bq2kqx4XwgnE"
      }
    },
    {
      "cell_type": "code",
      "source": [
        "def GramMatrix(X):\n",
        "  G = np.zeros([X.shape[0], X.shape[0]])\n",
        "  for i in range(X.shape[0]):\n",
        "    for j in range(X.shape[0]):\n",
        "      G[i, j] = np.sum(X[i] * X[j])\n",
        "  return G"
      ],
      "metadata": {
        "id": "x4h4YaYxvGJ4"
      },
      "execution_count": 121,
      "outputs": []
    },
    {
      "cell_type": "markdown",
      "source": [
        "### 计算对偶问题"
      ],
      "metadata": {
        "id": "MYNrmzpjVY70"
      }
    },
    {
      "cell_type": "code",
      "source": [
        "def ComputeDualProblem(X, LearningRate):\n",
        "  # 初始化（1）\n",
        "  alpha = np.zeros(X.shape[0])\n",
        "  b = 0\n",
        "  G = GramMatrix(X)\n",
        "\n",
        "  while 1:\n",
        "    # 选择误分类点（2）\n",
        "    index = -1\n",
        "    for i in range(X.shape[0]):\n",
        "      tmp = 0\n",
        "      for j in range(X.shape[0]):\n",
        "        if alpha[j] == 0: continue # 快速处理\n",
        "        tmp += alpha[j] * y[j] * G[j, i]\n",
        "      tmp += b\n",
        "      \n",
        "      if y[i] * tmp <= 0: # 如果...<=0（3）\n",
        "        index = i\n",
        "        break # 找到一个就可以停了\n",
        "    if index == -1: # 没有误分类点（4）\n",
        "      break\n",
        "    # 下降（3）\n",
        "    alpha[index] += LearningRate\n",
        "    b = b + LearningRate * y[index]\n",
        "  return alpha, b"
      ],
      "metadata": {
        "id": "wTyBQoJUwx9I"
      },
      "execution_count": 124,
      "outputs": []
    },
    {
      "cell_type": "code",
      "source": [
        "alpha, b = ComputeDualProblem(X, LearningRate=0.5)"
      ],
      "metadata": {
        "id": "wpEwgVHUxdm2"
      },
      "execution_count": 125,
      "outputs": []
    },
    {
      "cell_type": "markdown",
      "source": [
        "### 可视化线性超平面"
      ],
      "metadata": {
        "id": "GNBp60qpVa9l"
      }
    },
    {
      "cell_type": "code",
      "source": [
        "w = np.zeros([X.shape[1], 1])\n",
        "for i in range(X.shape[0]):\n",
        "  w += (alpha[i] * y[i] * X[i]).reshape([2,1])\n",
        "\n",
        "x1 = X[:, 0]\n",
        "x2 = (w[0] * x1 + b) / (-1 * w[1])\n",
        "\n",
        "fig, ax = plt.subplots(figsize=(12, 8))\n",
        "ax.scatter(positive['x1'], positive['x2'], color=\"black\", s=50, marker='+', label=\"Positive\")\n",
        "ax.scatter(negative['x1'], negative['x2'], color=\"y\", s=50, marker='o', label=\"Negative\")\n",
        "ax.plot(x1, x2, color=\"blue\", label=\"f(x)\")\n",
        "ax.legend(loc=2)\n",
        "ax.set_xlabel(\"x1\")\n",
        "ax.set_ylabel(\"x2\")\n",
        "plt.show()"
      ],
      "metadata": {
        "colab": {
          "base_uri": "https://localhost:8080/",
          "height": 497
        },
        "id": "6npIgOpwyU3H",
        "outputId": "8ea2afec-6879-43dc-8680-e3a84b1fb9c9"
      },
      "execution_count": 126,
      "outputs": [
        {
          "output_type": "display_data",
          "data": {
            "text/plain": [
              "<Figure size 864x576 with 1 Axes>"
            ],
            "image/png": "[encoded data removed]"
          },
          "metadata": {
            "needs_background": "light"
          }
        }
      ]
    }
  ]
}