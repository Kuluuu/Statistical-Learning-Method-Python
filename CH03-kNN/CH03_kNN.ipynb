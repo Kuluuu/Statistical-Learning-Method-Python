{
  "nbformat": 4,
  "nbformat_minor": 0,
  "metadata": {
    "colab": {
      "name": "CH03-kNN.ipynb",
      "provenance": [],
      "collapsed_sections": [],
      "toc_visible": true
    },
    "kernelspec": {
      "name": "python3",
      "display_name": "Python 3"
    },
    "language_info": {
      "name": "python"
    }
  },
  "cells": [
    {
      "cell_type": "markdown",
      "source": [
        "# 导入包"
      ],
      "metadata": {
        "id": "Kp_clToJDMXl"
      }
    },
    {
      "cell_type": "code",
      "execution_count": 29,
      "metadata": {
        "id": "tQuDzvBeCZuq"
      },
      "outputs": [],
      "source": [
        "import numpy as np\n",
        "import pandas as pd\n",
        "import math\n",
        "import scipy.io as sio\n",
        "import matplotlib.pyplot as plt\n",
        "from sklearn.datasets import load_iris # 使用鸢尾花数据集"
      ]
    },
    {
      "cell_type": "markdown",
      "source": [
        "# 实例一\n",
        "李航《统计学习方法》P54页例子\n",
        "\n",
        "数据集：\n",
        "\n",
        "$T=\\{(2,3)^T,(5,4)^T,(9,6)^T,(4,7)^T,(8,1)^T,(7,2)^T\\}$\n",
        "\n",
        "$y=\\{1, 1, 0, 1, 0, 0\\}$"
      ],
      "metadata": {
        "id": "QUdlHL9isDJq"
      }
    },
    {
      "cell_type": "markdown",
      "source": [
        "## 导入数据"
      ],
      "metadata": {
        "id": "MrgCNazUECg5"
      }
    },
    {
      "cell_type": "code",
      "source": [
        "path = \"/content/drive/MyDrive/Colab Notebooks/Statistical-Learning-Method-Python/CH03-kNN/CH03-data1.txt\"\n",
        "df = pd.read_csv(path, header=None, names=[\"x1\", \"x2\", \"y\"])\n",
        "data = np.array(df)\n",
        "\n",
        "X = data\n",
        "x = data[:, :data.shape[1]-1]\n",
        "y = data[:, data.shape[1]-1:data.shape[1]]"
      ],
      "metadata": {
        "id": "XiXDXyzjEBG0"
      },
      "execution_count": 4,
      "outputs": []
    },
    {
      "cell_type": "markdown",
      "source": [
        "## 数据可视化"
      ],
      "metadata": {
        "id": "nv0hSE6XpIcz"
      }
    },
    {
      "cell_type": "code",
      "source": [
        "positive = df[df['y'].isin([1])]\n",
        "negative = df[df['y'].isin([0])]\n",
        "\n",
        "fig, ax = plt.subplots(figsize=(12, 8))\n",
        "ax.scatter(positive['x1'], positive['x2'], color=\"r\", marker=\"o\", label=\"Positive\")\n",
        "ax.scatter(negative['x1'], negative['x2'], color=\"b\", marker=\"x\", label=\"Negative\")\n",
        "ax.legend()\n",
        "plt.xticks(np.arange(0, 11, 2))\n",
        "plt.yticks(np.arange(0, 11, 2))\n",
        "plt.show()"
      ],
      "metadata": {
        "colab": {
          "base_uri": "https://localhost:8080/",
          "height": 487
        },
        "id": "5a16tcAatZXS",
        "outputId": "25a2e0aa-6bff-4063-f77d-5a56c64864b6"
      },
      "execution_count": 5,
      "outputs": [
        {
          "output_type": "display_data",
          "data": {
            "text/plain": [
              "<Figure size 864x576 with 1 Axes>"
            ],
            "image/png": "[encoded data removed]"
          },
          "metadata": {
            "needs_background": "light"
          }
        }
      ]
    },
    {
      "cell_type": "markdown",
      "source": [
        "## 距离度量"
      ],
      "metadata": {
        "id": "HNx7G03JFnYG"
      }
    },
    {
      "cell_type": "markdown",
      "source": [
        "### $L_p距离$\n",
        "公式：\n",
        "$$\n",
        "L_p(x_i, x_j)=(\\sum_{l=1}^n|x_i^{(l)}-x_j^{(l)}|^p)^{\\frac{1}{p}}\n",
        "$$"
      ],
      "metadata": {
        "id": "s_OEXYccverw"
      }
    },
    {
      "cell_type": "code",
      "source": [
        "def LpDistance(xi, xj, p):\n",
        "  inner = np.abs(xi - xj)\n",
        "  power = np.power(inner, p)\n",
        "  sum = np.sum(power)\n",
        "  return pow(sum, 1/p)"
      ],
      "metadata": {
        "id": "0budrCscFmVi"
      },
      "execution_count": 6,
      "outputs": []
    },
    {
      "cell_type": "markdown",
      "source": [
        "### 欧式距离\n",
        "即$L_p$距离中的p=2\n",
        "\n",
        "公式：\n",
        "$$\n",
        "L_2(x_i, x_j)=(\\sum_{l=1}^n|x_i^{(l)}-x_j^{(l)}|^2)^{\\frac{1}{2}}\n",
        "$$"
      ],
      "metadata": {
        "id": "ashZRHRJv28F"
      }
    },
    {
      "cell_type": "code",
      "source": [
        "def Euclidean(xi, xj):\n",
        "  inner = np.abs(xi - xj)\n",
        "  power = np.power(inner, 2)\n",
        "  sum = np.sum(power)\n",
        "  return pow(sum, 1/2)"
      ],
      "metadata": {
        "id": "xxjq4va0v2-6"
      },
      "execution_count": 7,
      "outputs": []
    },
    {
      "cell_type": "markdown",
      "source": [
        "### 曼哈顿距离\n",
        "即$L_p$距离中的p=1\n",
        "\n",
        "公式：\n",
        "$$\n",
        "L_1(x_i, x_j)=\\sum_{l=1}^n|x_i^{(l)}-x_j^{(l)}|\n",
        "$$"
      ],
      "metadata": {
        "id": "Vs28fSJFv3Gk"
      }
    },
    {
      "cell_type": "code",
      "source": [
        "def Manhattan(xi, xj):\n",
        "  inner = np.abs(xi - xj)\n",
        "  sum = np.sum(inner)\n",
        "  return sum"
      ],
      "metadata": {
        "id": "tsoTPZoyv4ST"
      },
      "execution_count": 8,
      "outputs": []
    },
    {
      "cell_type": "markdown",
      "source": [
        "### 当$p=\\infty$\n",
        "距离为各个坐标距离的最大值\n",
        "\n",
        "公式：\n",
        "$$\n",
        "L_\\infty(x_i,x_j)=\\max_l|x_i^{(l)}-x_j^{(l)}|\n",
        "$$"
      ],
      "metadata": {
        "id": "X0cRTeRZwbX0"
      }
    },
    {
      "cell_type": "code",
      "source": [
        "def PInfity(xi, xj):\n",
        "  inner = np.abs(xi - xj)\n",
        "  mmax = np.max(inner)\n",
        "  return mmax"
      ],
      "metadata": {
        "id": "3gGjZag3wbai"
      },
      "execution_count": 9,
      "outputs": []
    },
    {
      "cell_type": "markdown",
      "source": [
        "## kd树在最近邻(k=1)中的应用"
      ],
      "metadata": {
        "id": "vhPUZYFYyH65"
      }
    },
    {
      "cell_type": "markdown",
      "source": [
        "## 树结点的定义"
      ],
      "metadata": {
        "id": "wvz9viLJyUZt"
      }
    },
    {
      "cell_type": "code",
      "source": [
        "class Node: # 类似链表实现二叉树\n",
        "  def __init__(self, data, l, left, right):\n",
        "    # data - 当前结点的样本\n",
        "    # l - 划分的特征轴\n",
        "    # left, right - 左右子树区域中的样本信息\n",
        "    self.data = data\n",
        "    self.l = l\n",
        "    self.left = left\n",
        "    self.right = right"
      ],
      "metadata": {
        "id": "hmllTxlSyV2C"
      },
      "execution_count": 16,
      "outputs": []
    },
    {
      "cell_type": "markdown",
      "source": [
        "### kd树的构造与最近邻搜索\n",
        "+ 划分的特征轴$x^{(l)}$，$l=j(mod\\ k)+1$"
      ],
      "metadata": {
        "id": "wMIP4MXCyjX3"
      }
    },
    {
      "cell_type": "code",
      "source": [
        "class KdTree():\n",
        "  def __init__(self, X):\n",
        "    self.root = self.create(X, 0, X.shape[1] - 1)\n",
        "    self.bestDist = math.inf\n",
        "    self.bestNode = None\n",
        "\n",
        "  def create(self, X, j, k):  # j - 深度；k - 特征个数\n",
        "    if X.shape[0] == 0:\n",
        "      return None\n",
        "\n",
        "    # 计算划分的特征轴\n",
        "    l = j % k\n",
        "\n",
        "    # 对当前轮的样本进行排序\n",
        "    X_sorted = np.array(sorted(X, key=lambda x: x[l]))\n",
        "\n",
        "    len = X_sorted.shape[0]\n",
        "    # 找中位数\n",
        "    mid = len // 2\n",
        "\n",
        "    data = X_sorted[mid]\n",
        "    left = X_sorted[:mid]  # 左半区域\n",
        "    right = X_sorted[mid + 1:]  # 右半区域\n",
        "\n",
        "    return Node(data, l, self.create(left, j + 1, k), self.create(right, j + 1, k))\n",
        "\n",
        "  def SearchShortest(self, q, curr_node):\n",
        "    # q - 待分类结点\n",
        "    if curr_node == None: return\n",
        "\n",
        "    dist = Euclidean(q, curr_node.data[:2,])\n",
        "    if dist < self.bestDist:\n",
        "      self.bestNode = curr_node.data\n",
        "      self.bestDist = dist\n",
        "\n",
        "    haveSearch = -1 # 0 - 搜了左边；1 - 搜了右边\n",
        "    if curr_node.left != None and q[curr_node.l] < curr_node.data[curr_node.l]:\n",
        "      self.SearchShortest(q, curr_node.left)\n",
        "      haveSearch = 0\n",
        "    elif curr_node.right != None and q[curr_node.l] >= curr_node.data[curr_node.l]:\n",
        "      self.SearchShortest(q, curr_node.right)\n",
        "      haveSearch = 1\n",
        "\n",
        "    if abs(q[curr_node.l] - curr_node.data[curr_node.l]) < self.bestDist:\n",
        "      if haveSearch:\n",
        "        self.SearchShortest(q, curr_node.left)\n",
        "      else:\n",
        "        self.SearchShortest(q, curr_node.right)"
      ],
      "metadata": {
        "id": "lqQettMDyKiR"
      },
      "execution_count": 17,
      "outputs": []
    },
    {
      "cell_type": "code",
      "source": [
        "kdtree = KdTree(X)\n",
        "kdtree.SearchShortest([3, 4.5], kdtree.root)\n",
        "print(\"BestNode：\", kdtree.bestNode)\n",
        "print(\"BestDist：\", kdtree.bestDist)\n",
        "\n",
        "yq = kdtree.bestNode[X.shape[1] - 1]\n",
        "print(\"[3, 4.5] 的类别为：\", yq)"
      ],
      "metadata": {
        "colab": {
          "base_uri": "https://localhost:8080/"
        },
        "id": "XEdIbXR0A95E",
        "outputId": "8fa2eb8f-ad8a-49e0-e7f1-c55e5a263919"
      },
      "execution_count": 27,
      "outputs": [
        {
          "output_type": "stream",
          "name": "stdout",
          "text": [
            "BestNode： [2 3 1]\n",
            "BestDist： 1.8027756377319946\n",
            "[3, 4.5] 的类别为： 1\n"
          ]
        }
      ]
    },
    {
      "cell_type": "markdown",
      "source": [
        "# 实例二（鸢尾花数据集）"
      ],
      "metadata": {
        "id": "3c388BgDtCIx"
      }
    },
    {
      "cell_type": "markdown",
      "source": [
        "## 导入数据"
      ],
      "metadata": {
        "id": "D6mTlgxtzVpg"
      }
    },
    {
      "cell_type": "code",
      "source": [
        "iris = load_iris()\n",
        "X2 = iris.get(\"data\") # data - (150, 4)\n",
        "target = iris.get(\"target\") # target - (150, )\n",
        "data2 = np.insert(X2, X2.shape[1], values=target, axis=1)\n",
        "\n",
        "data2"
      ],
      "metadata": {
        "id": "w3-1aCd7tCMQ",
        "colab": {
          "base_uri": "https://localhost:8080/"
        },
        "outputId": "959bde0d-ab4f-42f4-f743-c96053c6545b"
      },
      "execution_count": 42,
      "outputs": [
        {
          "output_type": "execute_result",
          "data": {
            "text/plain": [
              "array([[5.1, 3.5, 1.4, 0.2, 0. ],\n",
              "       [4.9, 3. , 1.4, 0.2, 0. ],\n",
              "       [4.7, 3.2, 1.3, 0.2, 0. ],\n",
              "       [4.6, 3.1, 1.5, 0.2, 0. ],\n",
              "       [5. , 3.6, 1.4, 0.2, 0. ],\n",
              "       [5.4, 3.9, 1.7, 0.4, 0. ],\n",
              "       [4.6, 3.4, 1.4, 0.3, 0. ],\n",
              "       [5. , 3.4, 1.5, 0.2, 0. ],\n",
              "       [4.4, 2.9, 1.4, 0.2, 0. ],\n",
              "       [4.9, 3.1, 1.5, 0.1, 0. ],\n",
              "       [5.4, 3.7, 1.5, 0.2, 0. ],\n",
              "       [4.8, 3.4, 1.6, 0.2, 0. ],\n",
              "       [4.8, 3. , 1.4, 0.1, 0. ],\n",
              "       [4.3, 3. , 1.1, 0.1, 0. ],\n",
              "       [5.8, 4. , 1.2, 0.2, 0. ],\n",
              "       [5.7, 4.4, 1.5, 0.4, 0. ],\n",
              "       [5.4, 3.9, 1.3, 0.4, 0. ],\n",
              "       [5.1, 3.5, 1.4, 0.3, 0. ],\n",
              "       [5.7, 3.8, 1.7, 0.3, 0. ],\n",
              "       [5.1, 3.8, 1.5, 0.3, 0. ],\n",
              "       [5.4, 3.4, 1.7, 0.2, 0. ],\n",
              "       [5.1, 3.7, 1.5, 0.4, 0. ],\n",
              "       [4.6, 3.6, 1. , 0.2, 0. ],\n",
              "       [5.1, 3.3, 1.7, 0.5, 0. ],\n",
              "       [4.8, 3.4, 1.9, 0.2, 0. ],\n",
              "       [5. , 3. , 1.6, 0.2, 0. ],\n",
              "       [5. , 3.4, 1.6, 0.4, 0. ],\n",
              "       [5.2, 3.5, 1.5, 0.2, 0. ],\n",
              "       [5.2, 3.4, 1.4, 0.2, 0. ],\n",
              "       [4.7, 3.2, 1.6, 0.2, 0. ],\n",
              "       [4.8, 3.1, 1.6, 0.2, 0. ],\n",
              "       [5.4, 3.4, 1.5, 0.4, 0. ],\n",
              "       [5.2, 4.1, 1.5, 0.1, 0. ],\n",
              "       [5.5, 4.2, 1.4, 0.2, 0. ],\n",
              "       [4.9, 3.1, 1.5, 0.2, 0. ],\n",
              "       [5. , 3.2, 1.2, 0.2, 0. ],\n",
              "       [5.5, 3.5, 1.3, 0.2, 0. ],\n",
              "       [4.9, 3.6, 1.4, 0.1, 0. ],\n",
              "       [4.4, 3. , 1.3, 0.2, 0. ],\n",
              "       [5.1, 3.4, 1.5, 0.2, 0. ],\n",
              "       [5. , 3.5, 1.3, 0.3, 0. ],\n",
              "       [4.5, 2.3, 1.3, 0.3, 0. ],\n",
              "       [4.4, 3.2, 1.3, 0.2, 0. ],\n",
              "       [5. , 3.5, 1.6, 0.6, 0. ],\n",
              "       [5.1, 3.8, 1.9, 0.4, 0. ],\n",
              "       [4.8, 3. , 1.4, 0.3, 0. ],\n",
              "       [5.1, 3.8, 1.6, 0.2, 0. ],\n",
              "       [4.6, 3.2, 1.4, 0.2, 0. ],\n",
              "       [5.3, 3.7, 1.5, 0.2, 0. ],\n",
              "       [5. , 3.3, 1.4, 0.2, 0. ],\n",
              "       [7. , 3.2, 4.7, 1.4, 1. ],\n",
              "       [6.4, 3.2, 4.5, 1.5, 1. ],\n",
              "       [6.9, 3.1, 4.9, 1.5, 1. ],\n",
              "       [5.5, 2.3, 4. , 1.3, 1. ],\n",
              "       [6.5, 2.8, 4.6, 1.5, 1. ],\n",
              "       [5.7, 2.8, 4.5, 1.3, 1. ],\n",
              "       [6.3, 3.3, 4.7, 1.6, 1. ],\n",
              "       [4.9, 2.4, 3.3, 1. , 1. ],\n",
              "       [6.6, 2.9, 4.6, 1.3, 1. ],\n",
              "       [5.2, 2.7, 3.9, 1.4, 1. ],\n",
              "       [5. , 2. , 3.5, 1. , 1. ],\n",
              "       [5.9, 3. , 4.2, 1.5, 1. ],\n",
              "       [6. , 2.2, 4. , 1. , 1. ],\n",
              "       [6.1, 2.9, 4.7, 1.4, 1. ],\n",
              "       [5.6, 2.9, 3.6, 1.3, 1. ],\n",
              "       [6.7, 3.1, 4.4, 1.4, 1. ],\n",
              "       [5.6, 3. , 4.5, 1.5, 1. ],\n",
              "       [5.8, 2.7, 4.1, 1. , 1. ],\n",
              "       [6.2, 2.2, 4.5, 1.5, 1. ],\n",
              "       [5.6, 2.5, 3.9, 1.1, 1. ],\n",
              "       [5.9, 3.2, 4.8, 1.8, 1. ],\n",
              "       [6.1, 2.8, 4. , 1.3, 1. ],\n",
              "       [6.3, 2.5, 4.9, 1.5, 1. ],\n",
              "       [6.1, 2.8, 4.7, 1.2, 1. ],\n",
              "       [6.4, 2.9, 4.3, 1.3, 1. ],\n",
              "       [6.6, 3. , 4.4, 1.4, 1. ],\n",
              "       [6.8, 2.8, 4.8, 1.4, 1. ],\n",
              "       [6.7, 3. , 5. , 1.7, 1. ],\n",
              "       [6. , 2.9, 4.5, 1.5, 1. ],\n",
              "       [5.7, 2.6, 3.5, 1. , 1. ],\n",
              "       [5.5, 2.4, 3.8, 1.1, 1. ],\n",
              "       [5.5, 2.4, 3.7, 1. , 1. ],\n",
              "       [5.8, 2.7, 3.9, 1.2, 1. ],\n",
              "       [6. , 2.7, 5.1, 1.6, 1. ],\n",
              "       [5.4, 3. , 4.5, 1.5, 1. ],\n",
              "       [6. , 3.4, 4.5, 1.6, 1. ],\n",
              "       [6.7, 3.1, 4.7, 1.5, 1. ],\n",
              "       [6.3, 2.3, 4.4, 1.3, 1. ],\n",
              "       [5.6, 3. , 4.1, 1.3, 1. ],\n",
              "       [5.5, 2.5, 4. , 1.3, 1. ],\n",
              "       [5.5, 2.6, 4.4, 1.2, 1. ],\n",
              "       [6.1, 3. , 4.6, 1.4, 1. ],\n",
              "       [5.8, 2.6, 4. , 1.2, 1. ],\n",
              "       [5. , 2.3, 3.3, 1. , 1. ],\n",
              "       [5.6, 2.7, 4.2, 1.3, 1. ],\n",
              "       [5.7, 3. , 4.2, 1.2, 1. ],\n",
              "       [5.7, 2.9, 4.2, 1.3, 1. ],\n",
              "       [6.2, 2.9, 4.3, 1.3, 1. ],\n",
              "       [5.1, 2.5, 3. , 1.1, 1. ],\n",
              "       [5.7, 2.8, 4.1, 1.3, 1. ],\n",
              "       [6.3, 3.3, 6. , 2.5, 2. ],\n",
              "       [5.8, 2.7, 5.1, 1.9, 2. ],\n",
              "       [7.1, 3. , 5.9, 2.1, 2. ],\n",
              "       [6.3, 2.9, 5.6, 1.8, 2. ],\n",
              "       [6.5, 3. , 5.8, 2.2, 2. ],\n",
              "       [7.6, 3. , 6.6, 2.1, 2. ],\n",
              "       [4.9, 2.5, 4.5, 1.7, 2. ],\n",
              "       [7.3, 2.9, 6.3, 1.8, 2. ],\n",
              "       [6.7, 2.5, 5.8, 1.8, 2. ],\n",
              "       [7.2, 3.6, 6.1, 2.5, 2. ],\n",
              "       [6.5, 3.2, 5.1, 2. , 2. ],\n",
              "       [6.4, 2.7, 5.3, 1.9, 2. ],\n",
              "       [6.8, 3. , 5.5, 2.1, 2. ],\n",
              "       [5.7, 2.5, 5. , 2. , 2. ],\n",
              "       [5.8, 2.8, 5.1, 2.4, 2. ],\n",
              "       [6.4, 3.2, 5.3, 2.3, 2. ],\n",
              "       [6.5, 3. , 5.5, 1.8, 2. ],\n",
              "       [7.7, 3.8, 6.7, 2.2, 2. ],\n",
              "       [7.7, 2.6, 6.9, 2.3, 2. ],\n",
              "       [6. , 2.2, 5. , 1.5, 2. ],\n",
              "       [6.9, 3.2, 5.7, 2.3, 2. ],\n",
              "       [5.6, 2.8, 4.9, 2. , 2. ],\n",
              "       [7.7, 2.8, 6.7, 2. , 2. ],\n",
              "       [6.3, 2.7, 4.9, 1.8, 2. ],\n",
              "       [6.7, 3.3, 5.7, 2.1, 2. ],\n",
              "       [7.2, 3.2, 6. , 1.8, 2. ],\n",
              "       [6.2, 2.8, 4.8, 1.8, 2. ],\n",
              "       [6.1, 3. , 4.9, 1.8, 2. ],\n",
              "       [6.4, 2.8, 5.6, 2.1, 2. ],\n",
              "       [7.2, 3. , 5.8, 1.6, 2. ],\n",
              "       [7.4, 2.8, 6.1, 1.9, 2. ],\n",
              "       [7.9, 3.8, 6.4, 2. , 2. ],\n",
              "       [6.4, 2.8, 5.6, 2.2, 2. ],\n",
              "       [6.3, 2.8, 5.1, 1.5, 2. ],\n",
              "       [6.1, 2.6, 5.6, 1.4, 2. ],\n",
              "       [7.7, 3. , 6.1, 2.3, 2. ],\n",
              "       [6.3, 3.4, 5.6, 2.4, 2. ],\n",
              "       [6.4, 3.1, 5.5, 1.8, 2. ],\n",
              "       [6. , 3. , 4.8, 1.8, 2. ],\n",
              "       [6.9, 3.1, 5.4, 2.1, 2. ],\n",
              "       [6.7, 3.1, 5.6, 2.4, 2. ],\n",
              "       [6.9, 3.1, 5.1, 2.3, 2. ],\n",
              "       [5.8, 2.7, 5.1, 1.9, 2. ],\n",
              "       [6.8, 3.2, 5.9, 2.3, 2. ],\n",
              "       [6.7, 3.3, 5.7, 2.5, 2. ],\n",
              "       [6.7, 3. , 5.2, 2.3, 2. ],\n",
              "       [6.3, 2.5, 5. , 1.9, 2. ],\n",
              "       [6.5, 3. , 5.2, 2. , 2. ],\n",
              "       [6.2, 3.4, 5.4, 2.3, 2. ],\n",
              "       [5.9, 3. , 5.1, 1.8, 2. ]])"
            ]
          },
          "metadata": {},
          "execution_count": 42
        }
      ]
    },
    {
      "cell_type": "markdown",
      "source": [
        "## 数据划分"
      ],
      "metadata": {
        "id": "ehmtEHR7HyLn"
      }
    },
    {
      "cell_type": "code",
      "source": [
        "np.random.shuffle(data2)\n",
        "trainset = data2[:130]\n",
        "validationset = data2[130:]"
      ],
      "metadata": {
        "id": "g2T36Y2NHyPk"
      },
      "execution_count": 43,
      "outputs": []
    },
    {
      "cell_type": "markdown",
      "source": [
        "## kd树在k近邻中的应用"
      ],
      "metadata": {
        "id": "gBADenGwz04o"
      }
    },
    {
      "cell_type": "markdown",
      "source": [
        "## 树结点的定义"
      ],
      "metadata": {
        "id": "CkKWomS_z04o"
      }
    },
    {
      "cell_type": "code",
      "source": [
        "class Node: # 类似链表实现二叉树\n",
        "  def __init__(self, data, l, left, right):\n",
        "    # data - 当前结点的样本\n",
        "    # l - 划分的特征轴\n",
        "    # left, right - 左右子树区域中的样本信息\n",
        "    self.data = data\n",
        "    self.l = l\n",
        "    self.left = left\n",
        "    self.right = right"
      ],
      "metadata": {
        "id": "_mria6U8z04p"
      },
      "execution_count": 45,
      "outputs": []
    },
    {
      "cell_type": "markdown",
      "source": [
        "### kd树的构造与最近邻搜索\n",
        "+ 划分的特征轴$x^{(l)}$，$l=j(mod\\ k)+1$"
      ],
      "metadata": {
        "id": "vFXoQ2OVz04p"
      }
    },
    {
      "cell_type": "code",
      "source": [
        "class KdTree():\n",
        "  class BestNodes:\n",
        "    def __init__(self, bestNode, bestDist):\n",
        "      self.node = bestNode\n",
        "      self.dist = bestDist\n",
        "\n",
        "  def __init__(self, X):\n",
        "    self.root = self.create(X, 0, X.shape[1] - 1)\n",
        "\n",
        "  def create(self, X, j, k):  # j - 深度；k - 特征个数\n",
        "    if X.shape[0] == 0:\n",
        "      return None\n",
        "\n",
        "    # 计算划分的特征轴\n",
        "    l = j % k\n",
        "\n",
        "    # 对当前轮的样本进行排序\n",
        "    X_sorted = np.array(sorted(X, key=lambda x: x[l]))\n",
        "\n",
        "    len = X_sorted.shape[0]\n",
        "    # 找中位数\n",
        "    mid = len // 2\n",
        "\n",
        "    data = X_sorted[mid]\n",
        "    left = X_sorted[:mid]  # 左半区域\n",
        "    right = X_sorted[mid + 1:]  # 右半区域\n",
        "\n",
        "    return Node(data, l, self.create(left, j + 1, k), self.create(right, j + 1, k))\n",
        "\n",
        "  # def SearchShortest(self, q, curr_node):\n",
        "  #     self.bestDist = math.inf\n",
        "  #     self.bestNode = None\n",
        "  #     self.Search(q, curr_node)\n",
        "  #\n",
        "  # def Search(self, q, curr_node):\n",
        "  #     # q - 待分类结点\n",
        "  #     if curr_node == None: return\n",
        "  #\n",
        "  #     dist = Euclidean(q, curr_node.data[:len(curr_node.data) - 1,])\n",
        "  #     if dist < self.bestDist:\n",
        "  #         self.bestNode = curr_node.data\n",
        "  #         self.bestDist = dist\n",
        "  #\n",
        "  #     haveSearch = -1 # 0 - 搜了左边；1 - 搜了右边\n",
        "  #     if curr_node.left != None and q[curr_node.l] < curr_node.data[curr_node.l]:\n",
        "  #         self.Search(q, curr_node.left)\n",
        "  #         haveSearch = 0\n",
        "  #     elif curr_node.right != None and q[curr_node.l] >= curr_node.data[curr_node.l]:\n",
        "  #         self.Search(q, curr_node.right)\n",
        "  #         haveSearch = 1\n",
        "  #\n",
        "  #     if abs(q[curr_node.l] - curr_node.data[curr_node.l]) < self.bestDist:\n",
        "  #         if haveSearch:\n",
        "  #             self.Search(q, curr_node.left)\n",
        "  #         else:\n",
        "  #             self.Search(q, curr_node.right)\n",
        "\n",
        "  def SearchkNN(self, q, curr_node, k): # k - k近邻\n",
        "    self.bestNodes = np.array([self.BestNodes(None, math.inf) for i in range(k)])\n",
        "    self.Search(q, curr_node, k)\n",
        "\n",
        "  def Search(self, q, curr_node, k):\n",
        "    # q - 待分类结点\n",
        "    if curr_node == None: return\n",
        "\n",
        "    dist = Euclidean(q, curr_node.data[:len(curr_node.data) - 1,])\n",
        "    index = -1\n",
        "    for i in range(len(self.bestNodes)) :\n",
        "      if dist < self.bestNodes[i].dist:\n",
        "        index = i\n",
        "        break\n",
        "    if index != -1:\n",
        "      self.bestNodes = np.insert(self.bestNodes, index, values=self.BestNodes(curr_node.data, dist))[:k]\n",
        "\n",
        "    haveSearch = -1 # 0 - 搜了左边；1 - 搜了右边\n",
        "    if curr_node.left != None and q[curr_node.l] < curr_node.data[curr_node.l]:\n",
        "      self.Search(q, curr_node.left, k)\n",
        "      haveSearch = 0\n",
        "    elif curr_node.right != None and q[curr_node.l] >= curr_node.data[curr_node.l]:\n",
        "      self.Search(q, curr_node.right, k)\n",
        "      haveSearch = 1\n",
        "\n",
        "    if abs(q[curr_node.l] - curr_node.data[curr_node.l]) < self.bestNodes[k - 1].dist:\n",
        "      if haveSearch:\n",
        "        self.Search(q, curr_node.left, k)\n",
        "      else:\n",
        "        self.Search(q, curr_node.right, k)"
      ],
      "metadata": {
        "id": "jYeBwsuCz04p"
      },
      "execution_count": 46,
      "outputs": []
    },
    {
      "cell_type": "code",
      "source": [
        "kdtree = KdTree(trainset)"
      ],
      "metadata": {
        "id": "EOzyvzSZz04p"
      },
      "execution_count": 53,
      "outputs": []
    },
    {
      "cell_type": "markdown",
      "source": [
        "## k值的选择（交叉验证）"
      ],
      "metadata": {
        "id": "sRCb_X0DIQIk"
      }
    },
    {
      "cell_type": "code",
      "source": [
        "# 每次重新shuffle才能得到不一样的结果\n",
        "np.random.shuffle(data2)\n",
        "trainset = data2[:130]\n",
        "validationset = data2[130:]\n",
        "\n",
        "# 训练模型\n",
        "kdtree = KdTree(trainset)\n",
        "\n",
        "def ComputeAccuracy(k):\n",
        "    # cnt = 1 # 记录循环次数\n",
        "    right = 0\n",
        "    for va in validationset:\n",
        "        # print(\"%d--------\" % (cnt))\n",
        "        kdtree.SearchkNN(va[:len(va) - 1], kdtree.root, k)\n",
        "        predict = np.zeros(validationset.shape[1] - 1)\n",
        "        for i in range(k):\n",
        "            predict[(int)(kdtree.bestNodes[i].node[validationset.shape[1] - 1])] += 1\n",
        "            # print(kdtree.bestNodes[i].node, kdtree.bestNodes[i].dist)\n",
        "\n",
        "        y_hat = np.argmax(predict) # 记录最多的标签值（多数表决规则）\n",
        "        # print(y_hat)\n",
        "        # cnt += 1\n",
        "\n",
        "        if (int)(va[len(va) - 1]) == y_hat:\n",
        "            right += 1\n",
        "\n",
        "        accuracy = right / len(validationset)\n",
        "        # print(validationset)\n",
        "\n",
        "    return accuracy\n",
        "\n",
        "for k in range(1, 11):\n",
        "    accuracy = ComputeAccuracy(k)\n",
        "    print(\"k = %d, Accuracy：%f\" % (k, accuracy))"
      ],
      "metadata": {
        "colab": {
          "base_uri": "https://localhost:8080/"
        },
        "id": "VM0Ra0CuISib",
        "outputId": "20ef1115-ce48-4a86-d115-8a160982d66f"
      },
      "execution_count": 86,
      "outputs": [
        {
          "output_type": "stream",
          "name": "stdout",
          "text": [
            "k = 1, Accuracy：0.950000\n",
            "k = 2, Accuracy：0.950000\n",
            "k = 3, Accuracy：0.950000\n",
            "k = 4, Accuracy：0.900000\n",
            "k = 5, Accuracy：0.950000\n",
            "k = 6, Accuracy：0.950000\n",
            "k = 7, Accuracy：0.950000\n",
            "k = 8, Accuracy：0.950000\n",
            "k = 9, Accuracy：1.000000\n",
            "k = 10, Accuracy：0.950000\n"
          ]
        }
      ]
    }
  ]
}