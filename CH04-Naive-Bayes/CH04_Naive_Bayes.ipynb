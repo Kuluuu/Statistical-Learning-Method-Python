{
  "nbformat": 4,
  "nbformat_minor": 0,
  "metadata": {
    "colab": {
      "name": "CH04-Naive-Bayes.ipynb",
      "provenance": [],
      "collapsed_sections": [],
      "toc_visible": true
    },
    "kernelspec": {
      "name": "python3",
      "display_name": "Python 3"
    },
    "language_info": {
      "name": "python"
    }
  },
  "cells": [
    {
      "cell_type": "markdown",
      "source": [
        "# 导入包"
      ],
      "metadata": {
        "id": "d2rdJmt-L6N9"
      }
    },
    {
      "cell_type": "code",
      "execution_count": 69,
      "metadata": {
        "id": "eQh-ji8GLyK7"
      },
      "outputs": [],
      "source": [
        "import numpy as np\n",
        "import pandas as pd\n",
        "\n",
        "base = \"/content/drive/MyDrive/Colab Notebooks/Statistical-Learning-Method-Python/CH04-Naive-Bayes\""
      ]
    },
    {
      "cell_type": "markdown",
      "source": [
        "# 导入数据\n",
        "数据来源李航《统计学习方法》P63"
      ],
      "metadata": {
        "id": "RD-YTiNiNPr3"
      }
    },
    {
      "cell_type": "code",
      "source": [
        "data_path = base + \"/CH04-data1.txt\" \n",
        "data = np.array(pd.read_csv(data_path, header=None, names=[\"x1\", \"x2\", \"y\"]))\n",
        "\n",
        "cols = data.shape[1]\n",
        "X = data[:, :cols-1]\n",
        "y = data[:, cols-1:]\n",
        "X,y"
      ],
      "metadata": {
        "colab": {
          "base_uri": "https://localhost:8080/"
        },
        "id": "gBE8GfnpNPtz",
        "outputId": "7a48b167-df7b-4946-8cf5-d7d785dc822f"
      },
      "execution_count": 70,
      "outputs": [
        {
          "output_type": "execute_result",
          "data": {
            "text/plain": [
              "(array([[1, 'S'],\n",
              "        [1, 'M'],\n",
              "        [1, 'M'],\n",
              "        [1, 'S'],\n",
              "        [1, 'S'],\n",
              "        [2, 'S'],\n",
              "        [2, 'M'],\n",
              "        [2, 'M'],\n",
              "        [2, 'L'],\n",
              "        [2, 'L'],\n",
              "        [3, 'L'],\n",
              "        [3, 'M'],\n",
              "        [3, 'M'],\n",
              "        [3, 'L'],\n",
              "        [3, 'L']], dtype=object), array([[-1],\n",
              "        [-1],\n",
              "        [1],\n",
              "        [1],\n",
              "        [-1],\n",
              "        [-1],\n",
              "        [-1],\n",
              "        [1],\n",
              "        [1],\n",
              "        [1],\n",
              "        [1],\n",
              "        [1],\n",
              "        [1],\n",
              "        [1],\n",
              "        [-1]], dtype=object))"
            ]
          },
          "metadata": {},
          "execution_count": 70
        }
      ]
    },
    {
      "cell_type": "markdown",
      "source": [
        "# 朴素贝叶斯法的参数估计"
      ],
      "metadata": {
        "id": "HBifbAScOXFL"
      }
    },
    {
      "cell_type": "markdown",
      "source": [
        "## 指示函数\n",
        "$$\n",
        "sign(y,\\hat{y})=\n",
        "\\left\\{\\begin{matrix}\n",
        "1,\\ \\ \\ y=\\hat{y}\\\\\n",
        "0,\\ \\ \\ y\\ne\\hat{y}\n",
        "\\end{matrix}\\right.\n",
        "$$"
      ],
      "metadata": {
        "id": "LCK1qZIpE8ZE"
      }
    },
    {
      "cell_type": "code",
      "source": [
        "def sign(a, b):\n",
        "  return (int)(a == b)"
      ],
      "metadata": {
        "id": "-kkwkWbGFZa0"
      },
      "execution_count": 71,
      "outputs": []
    },
    {
      "cell_type": "markdown",
      "source": [
        "## 极大似然估计"
      ],
      "metadata": {
        "id": "t8x19BDnGJio"
      }
    },
    {
      "cell_type": "markdown",
      "source": [
        "### 计算先验和条件概率（极大似然估计）\n",
        "\n",
        "先验概率$P(Y=c_k)$的极大似然估计：\n",
        "$$\n",
        "P(Y=c_k)=\\frac{\\sum_{i=1}^NI(y_i=c_k)}{N}，k=1,2,\\dots,K\n",
        "$$\n",
        "\n",
        "设第$j$个特征$x^{(j)}$可能取值的集合为$\\{a_{j1},a_{j2},\\dots,a_{jS_j}\\}$\n",
        "\n",
        "***\n",
        "\n",
        "条件概率$P(X^{(j)}=a_{jl}|Y=c_k)$的极大似然估计：\n",
        "$$\n",
        "P(X^{(j)}=a_{jl}|Y=c_k)=\\frac{\\sum_{i=1}^NI(x_i^{(j)}=a_{jl},y_i=c_k)}{\\sum_{i=1}^NI(y_i=c_k)} \\\\ \n",
        "j=1,2,\\dots,n；l=1,2,\\dots,S_j；k=1,2,\\dots,K\n",
        "$$\n",
        "\n",
        "其中：$x_i^{(j)}$是第$i$个样本的第$j$个特征；$a_{jl}$是第$j$个特征可能取得第$l$个值"
      ],
      "metadata": {
        "id": "SCjdjy09Oa19"
      }
    },
    {
      "cell_type": "code",
      "source": [
        "def PriorProbability(y, y_hat):\n",
        "  prior = 0\n",
        "  for i in range(y.shape[0]):\n",
        "    prior += sign(y[i], y_hat)\n",
        "  prior /= y.shape[0]\n",
        "\n",
        "  return prior"
      ],
      "metadata": {
        "id": "DV1MgJGO1cDX"
      },
      "execution_count": 72,
      "outputs": []
    },
    {
      "cell_type": "code",
      "source": [
        "def ConditionalProbability(X, y, x, y_hat):\n",
        "  # X - 训练数据集的特征\n",
        "  # y - 训练数据集的标签值\n",
        "  # x - 待分类数据的特征\n",
        "  # y_hat - 待分类数据的标签值\n",
        "  \n",
        "  ret = 1.0\n",
        "  for j in range(x.shape[1]):\n",
        "    numerator, denominator = 0, 0\n",
        "\n",
        "    for i in range(X.shape[0]):\n",
        "      denominator += sign(y[i], y_hat)\n",
        "      numerator += (int)(sign(y[i], y_hat) and sign(X[i,j], x[0,j]))\n",
        "    ret *= numerator / denominator\n",
        "  return ret"
      ],
      "metadata": {
        "id": "881tuUu847kk"
      },
      "execution_count": 73,
      "outputs": []
    },
    {
      "cell_type": "code",
      "source": [
        "x = np.array([[2], ['S']], dtype='O').T\n",
        "ConditionalProbability(X, y, x, 1)"
      ],
      "metadata": {
        "colab": {
          "base_uri": "https://localhost:8080/"
        },
        "id": "QhimygZh-wGb",
        "outputId": "e7754545-c7d1-4e02-b68d-54fb4f99c1fd"
      },
      "execution_count": 74,
      "outputs": [
        {
          "output_type": "execute_result",
          "data": {
            "text/plain": [
              "0.037037037037037035"
            ]
          },
          "metadata": {},
          "execution_count": 74
        }
      ]
    },
    {
      "cell_type": "markdown",
      "source": [
        "### 计算后验概率（极大似然估计）\n",
        "公式：\n",
        "$$\n",
        "P(Y=c_k)\\prod_{j=1}^nP(X^{(j)}=x^{(j)} \\mid Y=c_k),\\ \\ \\ k=1,2,\\cdots,K\n",
        "$$"
      ],
      "metadata": {
        "id": "uVRGuRO2I8ww"
      }
    },
    {
      "cell_type": "code",
      "source": [
        "def PosteriorProbability(X, y, x):\n",
        "  # X - 训练数据集的特征\n",
        "  # y - 训练数据集的标签值\n",
        "  # x - 待分类数据的特征\n",
        "  # y_hat - 待分类数据的标签值\n",
        "  label = np.unique(y)\n",
        "  posterior = []\n",
        "  for i in range(len(label)):\n",
        "    y_hat = label[i]\n",
        "    tmp = PriorProbability(y, y_hat) * ConditionalProbability(X, y, x, y_hat)\n",
        "    posterior.append(tmp)\n",
        "  return posterior"
      ],
      "metadata": {
        "id": "cW6_P1so6OtU"
      },
      "execution_count": 75,
      "outputs": []
    },
    {
      "cell_type": "code",
      "source": [
        "x = np.array([[2], ['S']], dtype='O').T\n",
        "np.unique(y), PosteriorProbability(X, y, x)"
      ],
      "metadata": {
        "colab": {
          "base_uri": "https://localhost:8080/"
        },
        "id": "f9kRrpMf_8-g",
        "outputId": "371f87ab-ceb6-4956-c753-12b389fb074d"
      },
      "execution_count": 80,
      "outputs": [
        {
          "output_type": "execute_result",
          "data": {
            "text/plain": [
              "(array([-1, 1], dtype=object), [0.06666666666666667, 0.02222222222222222])"
            ]
          },
          "metadata": {},
          "execution_count": 80
        }
      ]
    },
    {
      "cell_type": "markdown",
      "source": [
        "### 确定实例x的类（极大似然估计）\n",
        "公式：\n",
        "$$\n",
        "y=arg\\max_{c_k}P(Y=c_k)\\prod_{j=1}^nP(X^{(j)}=x^{(j)} \\mid Y=c_k)\n",
        "$$"
      ],
      "metadata": {
        "id": "Ol_BKSo6AMJY"
      }
    },
    {
      "cell_type": "code",
      "source": [
        "def Determination(X, y, x):\n",
        "  posterior = PosteriorProbability(X, y, x)\n",
        "  label = np.unique(y)\n",
        "  index = np.argmax(posterior)\n",
        "  return label[index]"
      ],
      "metadata": {
        "id": "iTV2GHX4AYZf"
      },
      "execution_count": 81,
      "outputs": []
    },
    {
      "cell_type": "code",
      "source": [
        "x = np.array([[2], ['S']], dtype='O').T\n",
        "y_hat = Determination(X, y, x)\n",
        "\n",
        "print(\"{}的类别为y={}\".format(x[0], y_hat))"
      ],
      "metadata": {
        "colab": {
          "base_uri": "https://localhost:8080/"
        },
        "id": "pQq942WZAoac",
        "outputId": "394fc0a9-35a9-470c-e7b1-4c3f120cc2af"
      },
      "execution_count": 82,
      "outputs": [
        {
          "output_type": "stream",
          "name": "stdout",
          "text": [
            "[2 'S']的类别为y=-1\n"
          ]
        }
      ]
    },
    {
      "cell_type": "markdown",
      "source": [
        "## 贝叶斯估计"
      ],
      "metadata": {
        "id": "WyIhO-9AGXrk"
      }
    },
    {
      "cell_type": "markdown",
      "source": [
        "### 计算先验和条件概率（贝叶斯估计）\n",
        "\n",
        "先验概率$P(Y=c_k)$的极大似然估计：\n",
        "$$\n",
        "P(Y=c_k)=\\frac{\\sum_{i=1}^NI(y_i=c_k)+\\lambda}{N+K\\lambda}，k=1,2,\\dots,K\n",
        "$$\n",
        "\n",
        "+ $\\lambda \\ge 0$；当$\\lambda = 0$时就是极大似然估计；$\\lambda$常取1，这时称作拉普拉斯平滑。\n",
        "+ 分子的$\\lambda$保证分子不为0。\n",
        "+ 分母的$K\\lambda$保证$\\sum_{k=1}^K P_\\lambda(Y=c_k)=1$。\n",
        "\n",
        "***\n",
        "\n",
        "条件概率$P(X^{(j)}=a_{jl}|Y=c_k)$的极大似然估计：\n",
        "$$\n",
        "P(X^{(j)}=a_{jl}|Y=c_k)=\\frac{\\sum_{i=1}^NI(x_i^{(j)}=a_{jl},y_i=c_k)+\\lambda}{\\sum_{i=1}^NI(y_i=c_k)+S_j\\lambda} \\\\ \n",
        "j=1,2,\\dots,n；l=1,2,\\dots,S_j；k=1,2,\\dots,K\n",
        "$$\n",
        "\n",
        "其中：$x_i^{(j)}$是第$i$个样本的第$j$个特征；$a_{jl}$是第$j$个特征可能取得第$l$个值\n",
        "\n",
        "+ 分子的$\\lambda$保证分子不为0。\n",
        "+ 分母的$S_j\\lambda$保证$\\sum_{l=1}^{S_j} P_\\lambda(X^{(j)}=a_{jl} \\mid Y=c_k)=1$。"
      ],
      "metadata": {
        "id": "1oLrFLSpBrgd"
      }
    },
    {
      "cell_type": "code",
      "source": [
        "def PriorProbabilityBayes(y, y_hat, lambd):\n",
        "  prior = 0\n",
        "  for i in range(y.shape[0]):\n",
        "    prior += sign(y[i], y_hat)\n",
        "  prior += lambd\n",
        "  prior = prior / (y.shape[0] + len(np.unique(y)) * lambd)\n",
        "\n",
        "  return prior"
      ],
      "metadata": {
        "id": "008XiJRVDMZ-"
      },
      "execution_count": 83,
      "outputs": []
    },
    {
      "cell_type": "code",
      "source": [
        "def ConditionalProbabilityBayes(X, y, x, y_hat, lambd):\n",
        "  # X - 训练数据集的特征\n",
        "  # y - 训练数据集的标签值\n",
        "  # x - 待分类数据的特征\n",
        "  # y_hat - 待分类数据的标签值\n",
        "  \n",
        "  ret = 1.0\n",
        "  for j in range(x.shape[1]):\n",
        "    numerator, denominator = 0, 0\n",
        "\n",
        "    for i in range(X.shape[0]):\n",
        "      denominator += sign(y[i], y_hat)\n",
        "      numerator += (int)(sign(y[i], y_hat) and sign(X[i,j], x[0,j]))\n",
        "    numerator += lambd\n",
        "    denominator += len(np.unique(X[:, j])) * lambd\n",
        "    ret *= numerator / denominator\n",
        "  return ret"
      ],
      "metadata": {
        "id": "mfcKRjO3DMaF"
      },
      "execution_count": 84,
      "outputs": []
    },
    {
      "cell_type": "code",
      "source": [
        "x = np.array([[2], ['S']], dtype='O').T\n",
        "ConditionalProbabilityBayes(X, y, x, 1, 1)"
      ],
      "metadata": {
        "colab": {
          "base_uri": "https://localhost:8080/"
        },
        "outputId": "b2314be4-ca17-4599-af04-38ec1ae3e743",
        "id": "BvzWIg85DMaF"
      },
      "execution_count": 85,
      "outputs": [
        {
          "output_type": "execute_result",
          "data": {
            "text/plain": [
              "0.05555555555555555"
            ]
          },
          "metadata": {},
          "execution_count": 85
        }
      ]
    },
    {
      "cell_type": "markdown",
      "source": [
        "### 计算后验概率（贝叶斯估计）\n",
        "公式：\n",
        "$$\n",
        "P(Y=c_k)\\prod_{j=1}^nP(X^{(j)}=x^{(j)} \\mid Y=c_k),\\ \\ \\ k=1,2,\\cdots,K\n",
        "$$"
      ],
      "metadata": {
        "id": "TeMJhgB2FnXW"
      }
    },
    {
      "cell_type": "code",
      "source": [
        "def PosteriorProbabilityBayes(X, y, x, lambd):\n",
        "  # X - 训练数据集的特征\n",
        "  # y - 训练数据集的标签值\n",
        "  # x - 待分类数据的特征\n",
        "  # y_hat - 待分类数据的标签值\n",
        "  label = np.unique(y)\n",
        "  posterior = []\n",
        "  for i in range(len(label)):\n",
        "    y_hat = label[i]\n",
        "    tmp = PriorProbabilityBayes(y, y_hat, lambd) * ConditionalProbabilityBayes(X, y, x, y_hat, lambd)\n",
        "    posterior.append(tmp)\n",
        "  return posterior"
      ],
      "metadata": {
        "id": "POq0cr0nFnXX"
      },
      "execution_count": 86,
      "outputs": []
    },
    {
      "cell_type": "code",
      "source": [
        "x = np.array([[2], ['S']], dtype='O').T\n",
        "np.unique(y), PosteriorProbabilityBayes(X, y, x, 1)"
      ],
      "metadata": {
        "colab": {
          "base_uri": "https://localhost:8080/"
        },
        "outputId": "3f1a2143-72aa-484e-94fc-b4715d49f384",
        "id": "fvsBr6eLFnXX"
      },
      "execution_count": 87,
      "outputs": [
        {
          "output_type": "execute_result",
          "data": {
            "text/plain": [
              "(array([-1, 1], dtype=object), [0.061002178649237467, 0.032679738562091505])"
            ]
          },
          "metadata": {},
          "execution_count": 87
        }
      ]
    },
    {
      "cell_type": "markdown",
      "source": [
        "### 确定实例x的类（极大似然估计）\n",
        "公式：\n",
        "$$\n",
        "y=arg\\max_{c_k}P(Y=c_k)\\prod_{j=1}^nP(X^{(j)}=x^{(j)} \\mid Y=c_k)\n",
        "$$"
      ],
      "metadata": {
        "id": "4SVvK0xuFnXY"
      }
    },
    {
      "cell_type": "code",
      "source": [
        "def DeterminationBayes(X, y, x, lambd):\n",
        "  posterior = PosteriorProbabilityBayes(X, y, x, lambd)\n",
        "  label = np.unique(y)\n",
        "  index = np.argmax(posterior)\n",
        "  return label[index]"
      ],
      "metadata": {
        "id": "-lYQWF2-FnXY"
      },
      "execution_count": 88,
      "outputs": []
    },
    {
      "cell_type": "code",
      "source": [
        "x = np.array([[2], ['S']], dtype='O').T\n",
        "lambd = 1\n",
        "\n",
        "y_hat_bayes = DeterminationBayes(X, y, x, lambd)\n",
        "\n",
        "print(\"{}的类别为y={}\".format(x[0], y_hat_bayes))"
      ],
      "metadata": {
        "colab": {
          "base_uri": "https://localhost:8080/"
        },
        "outputId": "d55d73ff-479f-4f36-94ff-a5467b940de6",
        "id": "hE1BC03-FnXY"
      },
      "execution_count": 91,
      "outputs": [
        {
          "output_type": "stream",
          "name": "stdout",
          "text": [
            "[2 'S']的类别为y=-1\n"
          ]
        }
      ]
    }
  ]
}